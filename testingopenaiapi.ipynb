{
 "cells": [
  {
   "cell_type": "code",
   "execution_count": 779,
   "id": "1e5c0eeb-8fc6-4119-9a47-4259431b0885",
   "metadata": {},
   "outputs": [],
   "source": [
    "import openai"
   ]
  },
  {
   "cell_type": "code",
   "execution_count": null,
   "id": "86d00169-fb2b-4efc-a0a0-216499e9cb2f",
   "metadata": {},
   "outputs": [],
   "source": []
  },
  {
   "cell_type": "code",
   "execution_count": 780,
   "id": "f0577440-805b-4af0-858d-5ced920c1992",
   "metadata": {},
   "outputs": [],
   "source": [
    "my_key = \"\""
   ]
  },
  {
   "cell_type": "code",
   "execution_count": 781,
   "id": "b7daf771-c020-48e5-8e97-beb406c8bb74",
   "metadata": {},
   "outputs": [],
   "source": [
    "openai.api_key = my_key"
   ]
  },
  {
   "cell_type": "code",
   "execution_count": 782,
   "id": "b9e4d48b-796f-436b-b157-4756688ba33f",
   "metadata": {},
   "outputs": [],
   "source": [
    "all_models = openai.models.list()"
   ]
  },
  {
   "cell_type": "code",
   "execution_count": 783,
   "id": "f60de2d4-0334-4728-b003-aef1a6be238e",
   "metadata": {},
   "outputs": [
    {
     "data": {
      "text/plain": [
       "[Model(id='gpt-4-turbo', created=1712361441, object='model', owned_by='system'),\n",
       " Model(id='gpt-4-turbo-2024-04-09', created=1712601677, object='model', owned_by='system'),\n",
       " Model(id='tts-1', created=1681940951, object='model', owned_by='openai-internal'),\n",
       " Model(id='tts-1-1106', created=1699053241, object='model', owned_by='system'),\n",
       " Model(id='chatgpt-4o-latest', created=1723515131, object='model', owned_by='system'),\n",
       " Model(id='dall-e-2', created=1698798177, object='model', owned_by='system'),\n",
       " Model(id='whisper-1', created=1677532384, object='model', owned_by='openai-internal'),\n",
       " Model(id='gpt-3.5-turbo-instruct', created=1692901427, object='model', owned_by='system'),\n",
       " Model(id='gpt-4o-2024-05-13', created=1715368132, object='model', owned_by='system'),\n",
       " Model(id='gpt-3.5-turbo', created=1677610602, object='model', owned_by='openai'),\n",
       " Model(id='gpt-3.5-turbo-0125', created=1706048358, object='model', owned_by='system'),\n",
       " Model(id='babbage-002', created=1692634615, object='model', owned_by='system'),\n",
       " Model(id='davinci-002', created=1692634301, object='model', owned_by='system'),\n",
       " Model(id='dall-e-3', created=1698785189, object='model', owned_by='system'),\n",
       " Model(id='gpt-4o-mini-2024-07-18', created=1721172717, object='model', owned_by='system'),\n",
       " Model(id='gpt-4o-2024-08-06', created=1722814719, object='model', owned_by='system'),\n",
       " Model(id='gpt-4o', created=1715367049, object='model', owned_by='system'),\n",
       " Model(id='gpt-4o-audio-preview-2024-10-01', created=1727389042, object='model', owned_by='system'),\n",
       " Model(id='gpt-4o-mini', created=1721172741, object='model', owned_by='system'),\n",
       " Model(id='gpt-4o-audio-preview', created=1727460443, object='model', owned_by='system'),\n",
       " Model(id='tts-1-hd', created=1699046015, object='model', owned_by='system'),\n",
       " Model(id='tts-1-hd-1106', created=1699053533, object='model', owned_by='system'),\n",
       " Model(id='gpt-4-1106-preview', created=1698957206, object='model', owned_by='system'),\n",
       " Model(id='text-embedding-ada-002', created=1671217299, object='model', owned_by='openai-internal'),\n",
       " Model(id='gpt-3.5-turbo-16k', created=1683758102, object='model', owned_by='openai-internal'),\n",
       " Model(id='text-embedding-3-small', created=1705948997, object='model', owned_by='system'),\n",
       " Model(id='text-embedding-3-large', created=1705953180, object='model', owned_by='system'),\n",
       " Model(id='gpt-4o-realtime-preview-2024-10-01', created=1727131766, object='model', owned_by='system'),\n",
       " Model(id='gpt-4o-realtime-preview', created=1727659998, object='model', owned_by='system'),\n",
       " Model(id='gpt-3.5-turbo-1106', created=1698959748, object='model', owned_by='system'),\n",
       " Model(id='gpt-4-0613', created=1686588896, object='model', owned_by='openai'),\n",
       " Model(id='gpt-4-turbo-preview', created=1706037777, object='model', owned_by='system'),\n",
       " Model(id='gpt-4-0125-preview', created=1706037612, object='model', owned_by='system'),\n",
       " Model(id='gpt-4', created=1687882411, object='model', owned_by='openai'),\n",
       " Model(id='gpt-3.5-turbo-instruct-0914', created=1694122472, object='model', owned_by='system')]"
      ]
     },
     "execution_count": 783,
     "metadata": {},
     "output_type": "execute_result"
    }
   ],
   "source": [
    "list(all_models)"
   ]
  },
  {
   "cell_type": "code",
   "execution_count": 784,
   "id": "4e90072e-b0eb-4f76-a6d1-a78c9b0369ed",
   "metadata": {},
   "outputs": [
    {
     "data": {
      "text/html": [
       "<div>\n",
       "<style scoped>\n",
       "    .dataframe tbody tr th:only-of-type {\n",
       "        vertical-align: middle;\n",
       "    }\n",
       "\n",
       "    .dataframe tbody tr th {\n",
       "        vertical-align: top;\n",
       "    }\n",
       "\n",
       "    .dataframe thead th {\n",
       "        text-align: right;\n",
       "    }\n",
       "</style>\n",
       "<table border=\"1\" class=\"dataframe\">\n",
       "  <thead>\n",
       "    <tr style=\"text-align: right;\">\n",
       "      <th></th>\n",
       "      <th>id</th>\n",
       "      <th>created</th>\n",
       "      <th>object</th>\n",
       "      <th>owned_by</th>\n",
       "    </tr>\n",
       "  </thead>\n",
       "  <tbody>\n",
       "    <tr>\n",
       "      <th>0</th>\n",
       "      <td>(id, gpt-4-turbo)</td>\n",
       "      <td>(created, 1712361441)</td>\n",
       "      <td>(object, model)</td>\n",
       "      <td>(owned_by, system)</td>\n",
       "    </tr>\n",
       "    <tr>\n",
       "      <th>1</th>\n",
       "      <td>(id, gpt-4-turbo-2024-04-09)</td>\n",
       "      <td>(created, 1712601677)</td>\n",
       "      <td>(object, model)</td>\n",
       "      <td>(owned_by, system)</td>\n",
       "    </tr>\n",
       "    <tr>\n",
       "      <th>2</th>\n",
       "      <td>(id, tts-1)</td>\n",
       "      <td>(created, 1681940951)</td>\n",
       "      <td>(object, model)</td>\n",
       "      <td>(owned_by, openai-internal)</td>\n",
       "    </tr>\n",
       "    <tr>\n",
       "      <th>3</th>\n",
       "      <td>(id, tts-1-1106)</td>\n",
       "      <td>(created, 1699053241)</td>\n",
       "      <td>(object, model)</td>\n",
       "      <td>(owned_by, system)</td>\n",
       "    </tr>\n",
       "    <tr>\n",
       "      <th>4</th>\n",
       "      <td>(id, chatgpt-4o-latest)</td>\n",
       "      <td>(created, 1723515131)</td>\n",
       "      <td>(object, model)</td>\n",
       "      <td>(owned_by, system)</td>\n",
       "    </tr>\n",
       "    <tr>\n",
       "      <th>5</th>\n",
       "      <td>(id, dall-e-2)</td>\n",
       "      <td>(created, 1698798177)</td>\n",
       "      <td>(object, model)</td>\n",
       "      <td>(owned_by, system)</td>\n",
       "    </tr>\n",
       "    <tr>\n",
       "      <th>6</th>\n",
       "      <td>(id, whisper-1)</td>\n",
       "      <td>(created, 1677532384)</td>\n",
       "      <td>(object, model)</td>\n",
       "      <td>(owned_by, openai-internal)</td>\n",
       "    </tr>\n",
       "    <tr>\n",
       "      <th>7</th>\n",
       "      <td>(id, gpt-3.5-turbo-instruct)</td>\n",
       "      <td>(created, 1692901427)</td>\n",
       "      <td>(object, model)</td>\n",
       "      <td>(owned_by, system)</td>\n",
       "    </tr>\n",
       "    <tr>\n",
       "      <th>8</th>\n",
       "      <td>(id, gpt-4o-2024-05-13)</td>\n",
       "      <td>(created, 1715368132)</td>\n",
       "      <td>(object, model)</td>\n",
       "      <td>(owned_by, system)</td>\n",
       "    </tr>\n",
       "    <tr>\n",
       "      <th>9</th>\n",
       "      <td>(id, gpt-3.5-turbo)</td>\n",
       "      <td>(created, 1677610602)</td>\n",
       "      <td>(object, model)</td>\n",
       "      <td>(owned_by, openai)</td>\n",
       "    </tr>\n",
       "    <tr>\n",
       "      <th>10</th>\n",
       "      <td>(id, gpt-3.5-turbo-0125)</td>\n",
       "      <td>(created, 1706048358)</td>\n",
       "      <td>(object, model)</td>\n",
       "      <td>(owned_by, system)</td>\n",
       "    </tr>\n",
       "    <tr>\n",
       "      <th>11</th>\n",
       "      <td>(id, babbage-002)</td>\n",
       "      <td>(created, 1692634615)</td>\n",
       "      <td>(object, model)</td>\n",
       "      <td>(owned_by, system)</td>\n",
       "    </tr>\n",
       "    <tr>\n",
       "      <th>12</th>\n",
       "      <td>(id, davinci-002)</td>\n",
       "      <td>(created, 1692634301)</td>\n",
       "      <td>(object, model)</td>\n",
       "      <td>(owned_by, system)</td>\n",
       "    </tr>\n",
       "    <tr>\n",
       "      <th>13</th>\n",
       "      <td>(id, dall-e-3)</td>\n",
       "      <td>(created, 1698785189)</td>\n",
       "      <td>(object, model)</td>\n",
       "      <td>(owned_by, system)</td>\n",
       "    </tr>\n",
       "    <tr>\n",
       "      <th>14</th>\n",
       "      <td>(id, gpt-4o-mini-2024-07-18)</td>\n",
       "      <td>(created, 1721172717)</td>\n",
       "      <td>(object, model)</td>\n",
       "      <td>(owned_by, system)</td>\n",
       "    </tr>\n",
       "    <tr>\n",
       "      <th>15</th>\n",
       "      <td>(id, gpt-4o-2024-08-06)</td>\n",
       "      <td>(created, 1722814719)</td>\n",
       "      <td>(object, model)</td>\n",
       "      <td>(owned_by, system)</td>\n",
       "    </tr>\n",
       "    <tr>\n",
       "      <th>16</th>\n",
       "      <td>(id, gpt-4o)</td>\n",
       "      <td>(created, 1715367049)</td>\n",
       "      <td>(object, model)</td>\n",
       "      <td>(owned_by, system)</td>\n",
       "    </tr>\n",
       "    <tr>\n",
       "      <th>17</th>\n",
       "      <td>(id, gpt-4o-audio-preview-2024-10-01)</td>\n",
       "      <td>(created, 1727389042)</td>\n",
       "      <td>(object, model)</td>\n",
       "      <td>(owned_by, system)</td>\n",
       "    </tr>\n",
       "    <tr>\n",
       "      <th>18</th>\n",
       "      <td>(id, gpt-4o-mini)</td>\n",
       "      <td>(created, 1721172741)</td>\n",
       "      <td>(object, model)</td>\n",
       "      <td>(owned_by, system)</td>\n",
       "    </tr>\n",
       "    <tr>\n",
       "      <th>19</th>\n",
       "      <td>(id, gpt-4o-audio-preview)</td>\n",
       "      <td>(created, 1727460443)</td>\n",
       "      <td>(object, model)</td>\n",
       "      <td>(owned_by, system)</td>\n",
       "    </tr>\n",
       "    <tr>\n",
       "      <th>20</th>\n",
       "      <td>(id, tts-1-hd)</td>\n",
       "      <td>(created, 1699046015)</td>\n",
       "      <td>(object, model)</td>\n",
       "      <td>(owned_by, system)</td>\n",
       "    </tr>\n",
       "    <tr>\n",
       "      <th>21</th>\n",
       "      <td>(id, tts-1-hd-1106)</td>\n",
       "      <td>(created, 1699053533)</td>\n",
       "      <td>(object, model)</td>\n",
       "      <td>(owned_by, system)</td>\n",
       "    </tr>\n",
       "    <tr>\n",
       "      <th>22</th>\n",
       "      <td>(id, gpt-4-1106-preview)</td>\n",
       "      <td>(created, 1698957206)</td>\n",
       "      <td>(object, model)</td>\n",
       "      <td>(owned_by, system)</td>\n",
       "    </tr>\n",
       "    <tr>\n",
       "      <th>23</th>\n",
       "      <td>(id, text-embedding-ada-002)</td>\n",
       "      <td>(created, 1671217299)</td>\n",
       "      <td>(object, model)</td>\n",
       "      <td>(owned_by, openai-internal)</td>\n",
       "    </tr>\n",
       "    <tr>\n",
       "      <th>24</th>\n",
       "      <td>(id, gpt-3.5-turbo-16k)</td>\n",
       "      <td>(created, 1683758102)</td>\n",
       "      <td>(object, model)</td>\n",
       "      <td>(owned_by, openai-internal)</td>\n",
       "    </tr>\n",
       "    <tr>\n",
       "      <th>25</th>\n",
       "      <td>(id, text-embedding-3-small)</td>\n",
       "      <td>(created, 1705948997)</td>\n",
       "      <td>(object, model)</td>\n",
       "      <td>(owned_by, system)</td>\n",
       "    </tr>\n",
       "    <tr>\n",
       "      <th>26</th>\n",
       "      <td>(id, text-embedding-3-large)</td>\n",
       "      <td>(created, 1705953180)</td>\n",
       "      <td>(object, model)</td>\n",
       "      <td>(owned_by, system)</td>\n",
       "    </tr>\n",
       "    <tr>\n",
       "      <th>27</th>\n",
       "      <td>(id, gpt-4o-realtime-preview-2024-10-01)</td>\n",
       "      <td>(created, 1727131766)</td>\n",
       "      <td>(object, model)</td>\n",
       "      <td>(owned_by, system)</td>\n",
       "    </tr>\n",
       "    <tr>\n",
       "      <th>28</th>\n",
       "      <td>(id, gpt-4o-realtime-preview)</td>\n",
       "      <td>(created, 1727659998)</td>\n",
       "      <td>(object, model)</td>\n",
       "      <td>(owned_by, system)</td>\n",
       "    </tr>\n",
       "    <tr>\n",
       "      <th>29</th>\n",
       "      <td>(id, gpt-3.5-turbo-1106)</td>\n",
       "      <td>(created, 1698959748)</td>\n",
       "      <td>(object, model)</td>\n",
       "      <td>(owned_by, system)</td>\n",
       "    </tr>\n",
       "    <tr>\n",
       "      <th>30</th>\n",
       "      <td>(id, gpt-4-0613)</td>\n",
       "      <td>(created, 1686588896)</td>\n",
       "      <td>(object, model)</td>\n",
       "      <td>(owned_by, openai)</td>\n",
       "    </tr>\n",
       "    <tr>\n",
       "      <th>31</th>\n",
       "      <td>(id, gpt-4-turbo-preview)</td>\n",
       "      <td>(created, 1706037777)</td>\n",
       "      <td>(object, model)</td>\n",
       "      <td>(owned_by, system)</td>\n",
       "    </tr>\n",
       "    <tr>\n",
       "      <th>32</th>\n",
       "      <td>(id, gpt-4-0125-preview)</td>\n",
       "      <td>(created, 1706037612)</td>\n",
       "      <td>(object, model)</td>\n",
       "      <td>(owned_by, system)</td>\n",
       "    </tr>\n",
       "    <tr>\n",
       "      <th>33</th>\n",
       "      <td>(id, gpt-4)</td>\n",
       "      <td>(created, 1687882411)</td>\n",
       "      <td>(object, model)</td>\n",
       "      <td>(owned_by, openai)</td>\n",
       "    </tr>\n",
       "    <tr>\n",
       "      <th>34</th>\n",
       "      <td>(id, gpt-3.5-turbo-instruct-0914)</td>\n",
       "      <td>(created, 1694122472)</td>\n",
       "      <td>(object, model)</td>\n",
       "      <td>(owned_by, system)</td>\n",
       "    </tr>\n",
       "  </tbody>\n",
       "</table>\n",
       "</div>"
      ],
      "text/plain": [
       "                                          id                created  \\\n",
       "0                          (id, gpt-4-turbo)  (created, 1712361441)   \n",
       "1               (id, gpt-4-turbo-2024-04-09)  (created, 1712601677)   \n",
       "2                                (id, tts-1)  (created, 1681940951)   \n",
       "3                           (id, tts-1-1106)  (created, 1699053241)   \n",
       "4                    (id, chatgpt-4o-latest)  (created, 1723515131)   \n",
       "5                             (id, dall-e-2)  (created, 1698798177)   \n",
       "6                            (id, whisper-1)  (created, 1677532384)   \n",
       "7               (id, gpt-3.5-turbo-instruct)  (created, 1692901427)   \n",
       "8                    (id, gpt-4o-2024-05-13)  (created, 1715368132)   \n",
       "9                        (id, gpt-3.5-turbo)  (created, 1677610602)   \n",
       "10                  (id, gpt-3.5-turbo-0125)  (created, 1706048358)   \n",
       "11                         (id, babbage-002)  (created, 1692634615)   \n",
       "12                         (id, davinci-002)  (created, 1692634301)   \n",
       "13                            (id, dall-e-3)  (created, 1698785189)   \n",
       "14              (id, gpt-4o-mini-2024-07-18)  (created, 1721172717)   \n",
       "15                   (id, gpt-4o-2024-08-06)  (created, 1722814719)   \n",
       "16                              (id, gpt-4o)  (created, 1715367049)   \n",
       "17     (id, gpt-4o-audio-preview-2024-10-01)  (created, 1727389042)   \n",
       "18                         (id, gpt-4o-mini)  (created, 1721172741)   \n",
       "19                (id, gpt-4o-audio-preview)  (created, 1727460443)   \n",
       "20                            (id, tts-1-hd)  (created, 1699046015)   \n",
       "21                       (id, tts-1-hd-1106)  (created, 1699053533)   \n",
       "22                  (id, gpt-4-1106-preview)  (created, 1698957206)   \n",
       "23              (id, text-embedding-ada-002)  (created, 1671217299)   \n",
       "24                   (id, gpt-3.5-turbo-16k)  (created, 1683758102)   \n",
       "25              (id, text-embedding-3-small)  (created, 1705948997)   \n",
       "26              (id, text-embedding-3-large)  (created, 1705953180)   \n",
       "27  (id, gpt-4o-realtime-preview-2024-10-01)  (created, 1727131766)   \n",
       "28             (id, gpt-4o-realtime-preview)  (created, 1727659998)   \n",
       "29                  (id, gpt-3.5-turbo-1106)  (created, 1698959748)   \n",
       "30                          (id, gpt-4-0613)  (created, 1686588896)   \n",
       "31                 (id, gpt-4-turbo-preview)  (created, 1706037777)   \n",
       "32                  (id, gpt-4-0125-preview)  (created, 1706037612)   \n",
       "33                               (id, gpt-4)  (created, 1687882411)   \n",
       "34         (id, gpt-3.5-turbo-instruct-0914)  (created, 1694122472)   \n",
       "\n",
       "             object                     owned_by  \n",
       "0   (object, model)           (owned_by, system)  \n",
       "1   (object, model)           (owned_by, system)  \n",
       "2   (object, model)  (owned_by, openai-internal)  \n",
       "3   (object, model)           (owned_by, system)  \n",
       "4   (object, model)           (owned_by, system)  \n",
       "5   (object, model)           (owned_by, system)  \n",
       "6   (object, model)  (owned_by, openai-internal)  \n",
       "7   (object, model)           (owned_by, system)  \n",
       "8   (object, model)           (owned_by, system)  \n",
       "9   (object, model)           (owned_by, openai)  \n",
       "10  (object, model)           (owned_by, system)  \n",
       "11  (object, model)           (owned_by, system)  \n",
       "12  (object, model)           (owned_by, system)  \n",
       "13  (object, model)           (owned_by, system)  \n",
       "14  (object, model)           (owned_by, system)  \n",
       "15  (object, model)           (owned_by, system)  \n",
       "16  (object, model)           (owned_by, system)  \n",
       "17  (object, model)           (owned_by, system)  \n",
       "18  (object, model)           (owned_by, system)  \n",
       "19  (object, model)           (owned_by, system)  \n",
       "20  (object, model)           (owned_by, system)  \n",
       "21  (object, model)           (owned_by, system)  \n",
       "22  (object, model)           (owned_by, system)  \n",
       "23  (object, model)  (owned_by, openai-internal)  \n",
       "24  (object, model)  (owned_by, openai-internal)  \n",
       "25  (object, model)           (owned_by, system)  \n",
       "26  (object, model)           (owned_by, system)  \n",
       "27  (object, model)           (owned_by, system)  \n",
       "28  (object, model)           (owned_by, system)  \n",
       "29  (object, model)           (owned_by, system)  \n",
       "30  (object, model)           (owned_by, openai)  \n",
       "31  (object, model)           (owned_by, system)  \n",
       "32  (object, model)           (owned_by, system)  \n",
       "33  (object, model)           (owned_by, openai)  \n",
       "34  (object, model)           (owned_by, system)  "
      ]
     },
     "execution_count": 784,
     "metadata": {},
     "output_type": "execute_result"
    }
   ],
   "source": [
    "import pandas as pd\n",
    "pd.DataFrame(list(all_models),columns=[\"id\",\"created\",\"object\",\"owned_by\"])"
   ]
  },
  {
   "cell_type": "markdown",
   "id": "5524b2a4-db9c-4819-b16e-1d6a835228a7",
   "metadata": {},
   "source": [
    "CHAT Completion API"
   ]
  },
  {
   "cell_type": "code",
   "execution_count": 785,
   "id": "72498f97-761a-455f-a9ca-49acd982e049",
   "metadata": {},
   "outputs": [],
   "source": [
    "from openai import OpenAI\n",
    "client = OpenAI(api_key = my_key)\n"
   ]
  },
  {
   "cell_type": "code",
   "execution_count": 786,
   "id": "533673ba-ed64-44fd-8c28-9f8bb129ccec",
   "metadata": {},
   "outputs": [],
   "source": [
    "response = client.chat.completions.create(\n",
    "  model=\"gpt-3.5-turbo\",\n",
    "  messages=[\n",
    "    {\n",
    "      \"role\": \"user\",\n",
    "      \"content\": [\n",
    "        {\n",
    "          \"type\": \"text\",\n",
    "          \"text\": \"how to make money\"\n",
    "        }\n",
    "      ]\n",
    "    }\n",
    "  ],\n",
    "    max_tokens = 100,\n",
    "    n = 3\n",
    ")"
   ]
  },
  {
   "cell_type": "code",
   "execution_count": 787,
   "id": "bfc08f22-3396-4de9-8664-4739f7b2a1af",
   "metadata": {},
   "outputs": [
    {
     "data": {
      "text/plain": [
       "openai.types.chat.chat_completion.ChatCompletion"
      ]
     },
     "execution_count": 787,
     "metadata": {},
     "output_type": "execute_result"
    }
   ],
   "source": [
    "type(response)"
   ]
  },
  {
   "cell_type": "code",
   "execution_count": 788,
   "id": "eef03749-9b6e-4a4c-b8da-c9255576030c",
   "metadata": {},
   "outputs": [
    {
     "data": {
      "text/plain": [
       "openai.types.chat.chat_completion.ChatCompletion"
      ]
     },
     "execution_count": 788,
     "metadata": {},
     "output_type": "execute_result"
    }
   ],
   "source": [
    "openai.types.chat.chat_completion.ChatCompletion"
   ]
  },
  {
   "cell_type": "code",
   "execution_count": 789,
   "id": "719fa616-7ba9-492a-a797-bd1e171c0d76",
   "metadata": {},
   "outputs": [
    {
     "data": {
      "text/plain": [
       "'1. Get a job or start a career: This is the most common way people make money. Look for job opportunities in your field of interest or start a career in a lucrative industry.\\n\\n2. Start a side hustle: Consider starting a side business or freelance work to earn extra income. This could be anything from selling handmade goods, offering services like tutoring or pet sitting, or starting an online store.\\n\\n3. Invest in stocks or real estate: Investing in stocks or real estate can be a way'"
      ]
     },
     "execution_count": 789,
     "metadata": {},
     "output_type": "execute_result"
    }
   ],
   "source": [
    "response.choices[0].message.content"
   ]
  },
  {
   "cell_type": "code",
   "execution_count": 790,
   "id": "90de9bce-213a-41bc-bc93-91abacaf6331",
   "metadata": {},
   "outputs": [],
   "source": [
    "import langchain"
   ]
  },
  {
   "cell_type": "code",
   "execution_count": 791,
   "id": "c6386290-e61a-42b6-b13c-fba1978bbb6b",
   "metadata": {},
   "outputs": [],
   "source": [
    "student_description = \"sunny savita is a student of computer science at IIT delhi. He is an indian and has a 8.5 GPA. Sunny is known for his programming skills and is an active member of the college's A1 Club. He hopes to pursue a career in artificial intelligence after graduating.\""
   ]
  },
  {
   "cell_type": "code",
   "execution_count": 792,
   "id": "a0a185e3-a35a-439d-a04f-7b75f010c5ba",
   "metadata": {},
   "outputs": [
    {
     "data": {
      "text/plain": [
       "\"sunny savita is a student of computer science at IIT delhi. He is an indian and has a 8.5 GPA. Sunny is known for his programming skills and is an active member of the college's A1 Club. He hopes to pursue a career in artificial intelligence after graduating.\""
      ]
     },
     "execution_count": 792,
     "metadata": {},
     "output_type": "execute_result"
    }
   ],
   "source": [
    "student_description"
   ]
  },
  {
   "cell_type": "code",
   "execution_count": 793,
   "id": "4c57fca0-f177-48c0-bd1d-005a7647dac4",
   "metadata": {},
   "outputs": [],
   "source": [
    "# A simple prompt to extratct information\n",
    "prompt = f'''\n",
    "Please extract the following information from the give text and return it as a JSON object:\n",
    "\n",
    "name\n",
    "college\n",
    "grades\n",
    "club\n",
    "\n",
    "This is the body of text to extract  the information from:\n",
    "{student_description}\n",
    "'''"
   ]
  },
  {
   "cell_type": "code",
   "execution_count": 794,
   "id": "87d3fa26-4e1b-4d16-bf88-cc17a87d0334",
   "metadata": {
    "scrolled": true
   },
   "outputs": [
    {
     "data": {
      "text/plain": [
       "\"\\nPlease extract the following information from the give text and return it as a JSON object:\\n\\nname\\ncollege\\ngrades\\nclub\\n\\nThis is the body of text to extract  the information from:\\nsunny savita is a student of computer science at IIT delhi. He is an indian and has a 8.5 GPA. Sunny is known for his programming skills and is an active member of the college's A1 Club. He hopes to pursue a career in artificial intelligence after graduating.\\n\""
      ]
     },
     "execution_count": 794,
     "metadata": {},
     "output_type": "execute_result"
    }
   ],
   "source": [
    "prompt"
   ]
  },
  {
   "cell_type": "code",
   "execution_count": 795,
   "id": "8bc25e9b-3644-4a8e-8d07-2893eb50b63f",
   "metadata": {},
   "outputs": [
    {
     "data": {
      "text/plain": [
       "\"\\nPlease extract the following information from the give text and return it as a JSON object:\\n\\nname\\ncollege\\ngrades\\nclub\\n\\nThis is the body of text to extract  the information from:\\nsunny savita is a student of computer science at IIT delhi. He is an indian and has a 8.5 GPA. Sunny is known for his programming skills and is an active member of the college's A1 Club. He hopes to pursue a career in artificial intelligence after graduating.\\n\""
      ]
     },
     "execution_count": 795,
     "metadata": {},
     "output_type": "execute_result"
    }
   ],
   "source": [
    "prompt"
   ]
  },
  {
   "cell_type": "code",
   "execution_count": 796,
   "id": "e916c892-bcd5-4e29-9b4d-c4c49cb7de24",
   "metadata": {},
   "outputs": [],
   "source": [
    "from openai import OpenAI\n",
    "client = OpenAI(api_key = my_key)\n",
    "response = client.chat.completions.create(\n",
    "  model=\"gpt-3.5-turbo\",\n",
    "  messages=[\n",
    "    {\n",
    "      \"role\": \"user\",\n",
    "      \"content\": prompt\n",
    "    }\n",
    "  ]\n",
    ")"
   ]
  },
  {
   "cell_type": "code",
   "execution_count": 797,
   "id": "127b2847-e997-4ba5-8d6d-3fcd0baaa5d7",
   "metadata": {},
   "outputs": [],
   "source": [
    "output = response.choices[0].message.content"
   ]
  },
  {
   "cell_type": "code",
   "execution_count": 798,
   "id": "8a642cd2-7364-4e29-b68c-4975fddec116",
   "metadata": {},
   "outputs": [
    {
     "data": {
      "text/plain": [
       "'{\\n  \"name\": \"sunny savita\",\\n  \"college\": \"IIT delhi\",\\n  \"grades\": 8.5,\\n  \"club\": \"A1 Club\"\\n}'"
      ]
     },
     "execution_count": 798,
     "metadata": {},
     "output_type": "execute_result"
    }
   ],
   "source": [
    "output"
   ]
  },
  {
   "cell_type": "code",
   "execution_count": 799,
   "id": "283029eb-5093-49ca-8f9b-12ce764137e0",
   "metadata": {},
   "outputs": [
    {
     "data": {
      "text/plain": [
       "{'name': 'sunny savita',\n",
       " 'college': 'IIT delhi',\n",
       " 'grades': 8.5,\n",
       " 'club': 'A1 Club'}"
      ]
     },
     "execution_count": 799,
     "metadata": {},
     "output_type": "execute_result"
    }
   ],
   "source": [
    "import json\n",
    "json.loads(output)"
   ]
  },
  {
   "cell_type": "code",
   "execution_count": 800,
   "id": "cdc54071-afdc-4419-aaf9-4174a4e82ca9",
   "metadata": {},
   "outputs": [],
   "source": [
    "student_custom_function=[\n",
    "    {\n",
    "        'name': 'extract_student_info',\n",
    "        'description': 'Get the student information from the body of the input text',\n",
    "        'parameters':{\n",
    "            'type': 'object',\n",
    "            'properties':{\n",
    "                'name': {\n",
    "                    'type': 'string',\n",
    "                    'description': 'Name of the person'\n",
    "                },\n",
    "                'college': {\n",
    "                    'type': 'string',\n",
    "                    'description': 'The college name.'\n",
    "                },\n",
    "                'grades':{\n",
    "                    'type': 'integer',\n",
    "                    'description': 'CGPA of the student.'\n",
    "                },\n",
    "                'club':{\n",
    "                    'type': 'string',\n",
    "                    'description': 'college club for extracurricular activities.'\n",
    "                }\n",
    "            }\n",
    "        }\n",
    "    }\n",
    "]"
   ]
  },
  {
   "cell_type": "code",
   "execution_count": 801,
   "id": "b4134ee2-97e1-40ce-8349-d1ba603c1b88",
   "metadata": {},
   "outputs": [],
   "source": [
    "student_custom_function_two=[\n",
    "        {\n",
    "            \"name\": \"extract_student_info\",\n",
    "            \"description\": \"Extracts student details like name, college, grades, and club.\",\n",
    "            \"parameters\": {\n",
    "                \"type\": \"object\",\n",
    "                \"properties\": {\n",
    "                    \"name\": {\"type\": \"string\", \"description\": \"The student's name\"},\n",
    "                    \"college\": {\"type\": \"string\", \"description\": \"The student's college\"},\n",
    "                    \"grades\": {\"type\": \"number\", \"description\": \"The student's grade point average\"},\n",
    "                    \"program\": {\"type\": \"string\", \"description\": \"course of study\"}\n",
    "                },\n",
    "                \"required\": [\"name\", \"college\"]\n",
    "            }\n",
    "        }\n",
    "    ]"
   ]
  },
  {
   "cell_type": "code",
   "execution_count": 802,
   "id": "6152d640-0e66-4e24-9a44-f481d579449a",
   "metadata": {},
   "outputs": [],
   "source": [
    "response2 = client.chat.completions.create(\n",
    "  model=\"gpt-3.5-turbo\",\n",
    "  messages=[{ \"role\": \"user\",\"content\": prompt}], \n",
    "      functions=[\n",
    "        {\n",
    "            \"name\": \"extract_student_info\",\n",
    "            \"description\": \"Extracts student details like name, college, grades, and club.\",\n",
    "            \"parameters\": {\n",
    "                \"type\": \"object\",\n",
    "                \"properties\": {\n",
    "                    \"name\": {\"type\": \"string\", \"description\": \"The student's name\"},\n",
    "                    \"college\": {\"type\": \"string\", \"description\": \"The student's college\"},\n",
    "                    \"career\": {\"type\": \"string\", \"description\": \"The student's career\"},\n",
    "                    \"club\": {\"type\": \"string\", \"description\": \"Any club the student is involved in\"}\n",
    "                },\n",
    "                \"required\": [\"name\", \"college\"]\n",
    "            }\n",
    "        }\n",
    "    ]\n",
    ")"
   ]
  },
  {
   "cell_type": "code",
   "execution_count": 803,
   "id": "0bca0970-e891-47b5-986f-198cd4c23d7c",
   "metadata": {
    "scrolled": true
   },
   "outputs": [
    {
     "name": "stdout",
     "output_type": "stream",
     "text": [
      "ChatCompletion(id='chatcmpl-ANZdAAH2HuGGRpT0d8ykladG8N9Ye', choices=[Choice(finish_reason='function_call', index=0, logprobs=None, message=ChatCompletionMessage(content=None, refusal=None, role='assistant', audio=None, function_call=FunctionCall(arguments='{\"name\":\"sunny savita\",\"college\":\"IIT delhi\"}', name='extract_student_info'), tool_calls=None))], created=1730181872, model='gpt-3.5-turbo-0125', object='chat.completion', service_tier=None, system_fingerprint=None, usage=CompletionUsage(completion_tokens=25, prompt_tokens=193, total_tokens=218, completion_tokens_details=CompletionTokensDetails(audio_tokens=None, reasoning_tokens=0), prompt_tokens_details=PromptTokensDetails(audio_tokens=None, cached_tokens=0)))\n"
     ]
    }
   ],
   "source": [
    "print(response2)"
   ]
  },
  {
   "cell_type": "code",
   "execution_count": 804,
   "id": "150014d6-f4fd-447c-b41a-ae317be44777",
   "metadata": {},
   "outputs": [
    {
     "data": {
      "text/plain": [
       "ChatCompletionMessage(content=None, refusal=None, role='assistant', audio=None, function_call=FunctionCall(arguments='{\"name\":\"sunny savita\",\"college\":\"IIT delhi\"}', name='extract_student_info'), tool_calls=None)"
      ]
     },
     "execution_count": 804,
     "metadata": {},
     "output_type": "execute_result"
    }
   ],
   "source": [
    "response2.choices[0].message"
   ]
  },
  {
   "cell_type": "code",
   "execution_count": 805,
   "id": "11bf7e49-aaf7-4d09-8bfb-a10f81e0473d",
   "metadata": {},
   "outputs": [
    {
     "data": {
      "text/plain": [
       "{'name': 'sunny savita', 'college': 'IIT delhi'}"
      ]
     },
     "execution_count": 805,
     "metadata": {},
     "output_type": "execute_result"
    }
   ],
   "source": [
    "json.loads(response2.choices[0].message.function_call.arguments)"
   ]
  },
  {
   "cell_type": "code",
   "execution_count": 806,
   "id": "1d98a5cd-cb0a-4a93-b535-3b9571d1729b",
   "metadata": {},
   "outputs": [],
   "source": [
    "student_description = \"sunny savita is a student of computer science at IIT delhi. He is an indian and has a 8.5 GPA. Sunny is known for his programming skills and is an active member of the college's A1 Club. He hopes to pursue a career in artificial intelligence after graduating.\""
   ]
  },
  {
   "cell_type": "code",
   "execution_count": 807,
   "id": "341204f9-e991-4e4e-8a0d-833d2dd7ed63",
   "metadata": {},
   "outputs": [],
   "source": [
    "student_description_2 = \"Michael is a student of computer science at Bluefield. He is a Ghanaian and has a 9.5 GPA. Michael is known for his programming skills and is an active member of the college's CS Club. He hopes to pursue a career in artificial intelligence after graduating.\""
   ]
  },
  {
   "cell_type": "code",
   "execution_count": 808,
   "id": "317ae4d4-fcb2-4cef-a23e-5acdadf67c2d",
   "metadata": {},
   "outputs": [],
   "source": [
    "student_description_3 = \"Kelvin is a student of computer science at Yale. He is a Ghanaian and has a 9.0 GPA. Kelvin is known for his programming skills and is an active member of the college's CS Club. He hopes to pursue a career in artificial intelligence after graduating.\""
   ]
  },
  {
   "cell_type": "code",
   "execution_count": 809,
   "id": "97749e16-36d0-45c7-9fc0-ba6b8abf78a3",
   "metadata": {},
   "outputs": [
    {
     "name": "stdout",
     "output_type": "stream",
     "text": [
      "{}\n",
      "{'name': 'Michael', 'college': 'Bluefield', 'grades': 9.5, 'club': 'CS Club'}\n",
      "{'name': 'Kelvin', 'college': 'Yale', 'grades': 9, 'club': 'CS Club'}\n"
     ]
    }
   ],
   "source": [
    "student_info = [student_description,student_description_2,student_description_3]\n",
    "for student in student_info:\n",
    "    response = client.chat.completions.create(\n",
    "        model = \"gpt-3.5-turbo\",\n",
    "        messages = [{'role':'user','content': student}],\n",
    "        functions = student_custom_function,\n",
    "        function_call = 'auto'\n",
    "    )\n",
    "    response = json.loads(response.choices[0].message.function_call.arguments)\n",
    "    print(response)"
   ]
  },
  {
   "cell_type": "markdown",
   "id": "7cc1fa60-f20e-434e-bb91-cb9d63ff13d8",
   "metadata": {},
   "source": [
    "# Including two functions"
   ]
  },
  {
   "cell_type": "code",
   "execution_count": 810,
   "id": "21e47f0d-0884-4f95-905e-cc66f2f946a2",
   "metadata": {},
   "outputs": [
    {
     "name": "stdout",
     "output_type": "stream",
     "text": [
      "{'name': 'sunny savita', 'college': 'IIT delhi', 'grades': 8.5, 'program': 'computer science'}\n",
      "{'name': 'Michael', 'college': 'Bluefield', 'grades': 9.5, 'program': 'computer science'}\n",
      "{'name': 'Kelvin', 'college': 'Yale', 'grades': 9.0, 'program': 'Computer Science'}\n"
     ]
    }
   ],
   "source": [
    "functions = [student_custom_function[0], student_custom_function_two[0]]\n",
    "student_info = [student_description,student_description_2,student_description_3]\n",
    "for student in student_info:\n",
    "    response = client.chat.completions.create(\n",
    "        model = \"gpt-3.5-turbo\",\n",
    "        messages = [{'role':'user','content': student}],\n",
    "        functions = functions,\n",
    "        function_call = 'auto'\n",
    "    )\n",
    "    response = json.loads(response.choices[0].message.function_call.arguments)\n",
    "    print(response)"
   ]
  },
  {
   "cell_type": "markdown",
   "id": "ca59480e-0598-4956-9ea0-b07599c2209e",
   "metadata": {},
   "source": [
    "# Advance example of function calling\n",
    "Function calling helps us to connect large language models to external tools"
   ]
  },
  {
   "cell_type": "code",
   "execution_count": 811,
   "id": "45fa0bc4-aeff-4c42-955f-2ff381b41055",
   "metadata": {},
   "outputs": [],
   "source": [
    "function_descriptions=[\n",
    "        {\n",
    "            \"name\": \"get_flight_info\",\n",
    "            \"description\": \"Get flight information\",\n",
    "            \"parameters\": {\n",
    "                \"type\": \"object\",\n",
    "                \"properties\": {\n",
    "                    \"loc_origin\": {\"type\": \"string\", \"description\": \"The departure airport\"},\n",
    "                    \"loc_destination\": {\"type\": \"string\", \"description\": \"The destination airport\"}\n",
    "                },\n",
    "                \"required\": [\"loc_origin\", \"loc_destination\"]\n",
    "            }\n",
    "        }\n",
    "    ]"
   ]
  },
  {
   "cell_type": "code",
   "execution_count": 812,
   "id": "054a4ab3-84ef-4bd4-a5d4-954b51970261",
   "metadata": {},
   "outputs": [],
   "source": [
    "user_prompt = \"When's the next flight from Accra to USA\""
   ]
  },
  {
   "cell_type": "code",
   "execution_count": 813,
   "id": "d1c8dfed-83d0-4810-9588-290d3affe35b",
   "metadata": {},
   "outputs": [
    {
     "name": "stdout",
     "output_type": "stream",
     "text": [
      "{'name': 'Kelvin', 'college': 'Yale', 'grades': 9.0, 'program': 'Computer Science'}\n"
     ]
    }
   ],
   "source": [
    "    response4 = client.chat.completions.create(\n",
    "        model = \"gpt-3.5-turbo\",\n",
    "        messages = [{'role':'user','content': user_prompt}],\n",
    "        functions = function_descriptions,\n",
    "        function_call = 'auto'\n",
    "    )\n",
    "    response4 = json.loads(response4.choices[0].message.function_call.arguments)\n",
    "    print(response)"
   ]
  },
  {
   "cell_type": "markdown",
   "id": "c3e01b42-0e6b-4eb3-b227-db79fcde90ff",
   "metadata": {},
   "source": [
    "# CREATING A DUMMY API"
   ]
  },
  {
   "cell_type": "code",
   "execution_count": 814,
   "id": "93b6382a-2b92-4841-a25c-6408550b5466",
   "metadata": {},
   "outputs": [],
   "source": [
    "def get_flight_info(loc_origin,loc_destination):\n",
    "    flight_info = {\n",
    "        \"loc_origin\":loc_origin,\n",
    "        \"loc_destination\": loc_destination,\n",
    "        \"datetime\": str(datetime.now() + timedelta(hours=2)),\n",
    "        \"airline\": \"United\",\n",
    "        \"flight\": \"AMP56\"\n",
    "    }\n",
    "    return json.dumps(flight_info)"
   ]
  },
  {
   "cell_type": "code",
   "execution_count": 815,
   "id": "54e0fd4e-c309-4e5c-adaa-ca2db4a27d73",
   "metadata": {},
   "outputs": [
    {
     "ename": "AttributeError",
     "evalue": "'dict' object has no attribute 'choices'",
     "output_type": "error",
     "traceback": [
      "\u001b[1;31m---------------------------------------------------------------------------\u001b[0m",
      "\u001b[1;31mAttributeError\u001b[0m                            Traceback (most recent call last)",
      "Cell \u001b[1;32mIn[815], line 1\u001b[0m\n\u001b[1;32m----> 1\u001b[0m params \u001b[38;5;241m=\u001b[39m json\u001b[38;5;241m.\u001b[39mloads(response4\u001b[38;5;241m.\u001b[39mchoices[\u001b[38;5;241m0\u001b[39m]\u001b[38;5;241m.\u001b[39mmessage\u001b[38;5;241m.\u001b[39mfunction_call\u001b[38;5;241m.\u001b[39marguments)\n",
      "\u001b[1;31mAttributeError\u001b[0m: 'dict' object has no attribute 'choices'"
     ]
    }
   ],
   "source": [
    "params = json.loads(response4.choices[0].message.function_call.arguments)"
   ]
  }
 ],
 "metadata": {
  "kernelspec": {
   "display_name": "Python 3 (ipykernel)",
   "language": "python",
   "name": "python3"
  },
  "language_info": {
   "codemirror_mode": {
    "name": "ipython",
    "version": 3
   },
   "file_extension": ".py",
   "mimetype": "text/x-python",
   "name": "python",
   "nbconvert_exporter": "python",
   "pygments_lexer": "ipython3",
   "version": "3.12.4"
  }
 },
 "nbformat": 4,
 "nbformat_minor": 5
}
